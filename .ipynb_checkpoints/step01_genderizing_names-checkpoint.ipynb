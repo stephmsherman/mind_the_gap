{
 "cells": [
  {
   "cell_type": "code",
   "execution_count": 69,
   "metadata": {
    "collapsed": true
   },
   "outputs": [],
   "source": [
    "from sqlalchemy import create_engine\n",
    "from sqlalchemy_utils import database_exists, create_database\n",
    "import psycopg2\n",
    "import pandas as pd\n",
    "import numpy as np\n",
    "import matplotlib.pyplot as plt\n",
    "import string\n",
    "import gender_guesser.detector as gender\n",
    "%matplotlib inline\n",
    "plt.rcParams['figure.figsize'] = (21,15)\n",
    "import matplotlib.patches as mpatches\n",
    "from easymoney.money import EasyPeasy\n",
    "from economics import CPI\n",
    "from economics import Inflation"
   ]
  },
  {
   "cell_type": "code",
   "execution_count": 70,
   "metadata": {
    "collapsed": true
   },
   "outputs": [],
   "source": [
    "dbname = 'federal_employment'\n",
    "username = 'stephaniesherman'\n",
    "# connect:\n",
    "con = None\n",
    "con = psycopg2.connect(database = dbname, user = username)"
   ]
  },
  {
   "cell_type": "code",
   "execution_count": 71,
   "metadata": {
    "collapsed": false
   },
   "outputs": [
    {
     "data": {
      "text/html": [
       "<div>\n",
       "<table border=\"1\" class=\"dataframe\">\n",
       "  <thead>\n",
       "    <tr style=\"text-align: right;\">\n",
       "      <th></th>\n",
       "      <th>employee_id</th>\n",
       "      <th>employee_name</th>\n",
       "    </tr>\n",
       "  </thead>\n",
       "  <tbody>\n",
       "    <tr>\n",
       "      <th>0</th>\n",
       "      <td>005525563</td>\n",
       "      <td>GRAYBILL,KRISTIN R.</td>\n",
       "    </tr>\n",
       "    <tr>\n",
       "      <th>1</th>\n",
       "      <td>005525582</td>\n",
       "      <td>TALFORD,ROBERT H.</td>\n",
       "    </tr>\n",
       "    <tr>\n",
       "      <th>2</th>\n",
       "      <td>005527405</td>\n",
       "      <td>JORQUERA,MARIO ENRIQUE</td>\n",
       "    </tr>\n",
       "    <tr>\n",
       "      <th>3</th>\n",
       "      <td>005533994</td>\n",
       "      <td>COBBS,GLADYS M.</td>\n",
       "    </tr>\n",
       "    <tr>\n",
       "      <th>4</th>\n",
       "      <td>005534678</td>\n",
       "      <td>STRAUSS,LINDA HYMAN</td>\n",
       "    </tr>\n",
       "  </tbody>\n",
       "</table>\n",
       "</div>"
      ],
      "text/plain": [
       "  employee_id           employee_name\n",
       "0   005525563     GRAYBILL,KRISTIN R.\n",
       "1   005525582       TALFORD,ROBERT H.\n",
       "2   005527405  JORQUERA,MARIO ENRIQUE\n",
       "3   005533994         COBBS,GLADYS M.\n",
       "4   005534678     STRAUSS,LINDA HYMAN"
      ]
     },
     "execution_count": 71,
     "metadata": {},
     "output_type": "execute_result"
    }
   ],
   "source": [
    "# query to get all the employee names\n",
    "name_query = \"\"\"\n",
    "SELECT employee_id, employee_name \n",
    "FROM public.employee_info \n",
    "WHERE country = '001' and month = '12' and employee_name != 'NAME WITHHELD BY OPM' and employee_name != 'NAME WITHHELD BY AGENCY' \n",
    "and employee_name != 'NAME UNKNOWN'\n",
    ";\n",
    "\"\"\"\n",
    "names = pd.read_sql_query(name_query,con)\n",
    "names.head()"
   ]
  },
  {
   "cell_type": "code",
   "execution_count": 72,
   "metadata": {
    "collapsed": false
   },
   "outputs": [
    {
     "data": {
      "text/plain": [
       "(5195789, 2)"
      ]
     },
     "execution_count": 72,
     "metadata": {},
     "output_type": "execute_result"
    }
   ],
   "source": [
    "names.shape"
   ]
  },
  {
   "cell_type": "code",
   "execution_count": 73,
   "metadata": {
    "collapsed": true
   },
   "outputs": [],
   "source": [
    "names.drop_duplicates('employee_id', inplace = True)"
   ]
  },
  {
   "cell_type": "code",
   "execution_count": 74,
   "metadata": {
    "collapsed": true
   },
   "outputs": [],
   "source": [
    "###data cleaning\n",
    "names['employee_name']= names['employee_name'].str.replace(',', ' ')\n",
    "names['employee_name']= names['employee_name'].str.replace('JR', '')\n",
    "names['employee_name']= names['employee_name'].str.replace('JR.', '')\n",
    "names['employee_name']= names['employee_name'].str.replace('III', '')\n",
    "names['employee_name']= names['employee_name'].str.replace('II', '')"
   ]
  },
  {
   "cell_type": "code",
   "execution_count": 75,
   "metadata": {
    "collapsed": false
   },
   "outputs": [],
   "source": [
    "parts_of_name=names['employee_name'].str.split(' ').tolist()\n",
    "split_names=pd.DataFrame.from_records(parts_of_name)"
   ]
  },
  {
   "cell_type": "code",
   "execution_count": 76,
   "metadata": {
    "collapsed": false
   },
   "outputs": [],
   "source": [
    "###remove . in middle initial \n",
    "#split_names[1]=split_names[1].str.replace('.','')"
   ]
  },
  {
   "cell_type": "code",
   "execution_count": 78,
   "metadata": {
    "collapsed": false
   },
   "outputs": [],
   "source": [
    "d = gender.Detector(case_sensitive=False)\n",
    "first_names = []\n",
    "for n in split_names.index:\n",
    "    if split_names[1][n] is None:\n",
    "        first_names.append(None)\n",
    "    elif len(split_names[1][n]) > 1:\n",
    "        first_names.append(split_names[1][n])\n",
    "    else: first_names.append(split_names[2][n])"
   ]
  },
  {
   "cell_type": "code",
   "execution_count": 80,
   "metadata": {
    "collapsed": true
   },
   "outputs": [],
   "source": [
    "gender = []\n",
    "for fn in first_names:\n",
    "    if fn is None:\n",
    "        gender.append(None)\n",
    "    else:\n",
    "        gender.append(d.get_gender(fn))"
   ]
  },
  {
   "cell_type": "code",
   "execution_count": 82,
   "metadata": {
    "collapsed": false
   },
   "outputs": [
    {
     "data": {
      "text/plain": [
       "male             256443\n",
       "female           197585\n",
       "unknown          146158\n",
       "mostly_female     20626\n",
       "mostly_male        9811\n",
       "andy               3481\n",
       "Name: gender, dtype: int64"
      ]
     },
     "execution_count": 82,
     "metadata": {},
     "output_type": "execute_result"
    }
   ],
   "source": [
    "names['gender'] = gender\n",
    "names['gender'].value_counts()"
   ]
  },
  {
   "cell_type": "code",
   "execution_count": 62,
   "metadata": {
    "collapsed": false
   },
   "outputs": [],
   "source": [
    "names.to_csv('/Users/stephaniesherman/Dropbox/insight_data_science_program/opm_federal_employment_data/fedscope_buzzfeed/gender.csv',index = False)"
   ]
  },
  {
   "cell_type": "code",
   "execution_count": 91,
   "metadata": {
    "collapsed": true
   },
   "outputs": [],
   "source": [
    "##query was this\n",
    "##COPY public.gender (employee_id, employee_name, gender)\n",
    "##FROM '/Users/stephaniesherman/Dropbox/insight_data_science_program/opm_federal_employment_data/fedscope_buzzfeed/gender.csv' DELIMITER ',' CSV HEADER;\n",
    "#########gives all the males and females I have identified\n",
    "\n",
    "# query:\n",
    "gen_query = \"\"\"\n",
    "SELECT employee_info.*, gender.gender\n",
    "FROM public.employee_info\n",
    "LEFT JOIN gender ON employee_info.employee_id = gender.employee_id\n",
    "WHERE gender.gender = 'female' or gender.gender = 'mostly_female' or gender.gender = 'mostly_male' or gender.gender = 'male';\n",
    "\"\"\"\n",
    "\n",
    "gend = pd.read_sql_query(gen_query,con)"
   ]
  },
  {
   "cell_type": "code",
   "execution_count": 92,
   "metadata": {
    "collapsed": true
   },
   "outputs": [],
   "source": [
    "###Data Cleaning\n",
    "## remove mostly from gender identification, clean education column, get only full-time employees\n",
    "gend['gender'] = gend['gender'].str.replace('mostly_','')\n",
    "gend['education_level']=pd.to_numeric(gend['education_level'],errors = coerce)\n",
    "gend=gend[gend['education_level']!=99.0]\n",
    "gend = gend[gend['nsftp']=='1.0']"
   ]
  },
  {
   "cell_type": "code",
   "execution_count": 103,
   "metadata": {
    "collapsed": true
   },
   "outputs": [],
   "source": [
    "#####make categorical variables into numeric and drop NAs\n",
    "gender_dict = dict({'female':0,'male':1})\n",
    "gend['gender']=gend['gender'].map(gender_dict)\n",
    "los_num=dict({'< 1': .5, '1-2': 1.5,'3-4':3.5, '5-9': 7,'10-14':12, '15-19': 17, '20-24':22,'25-29': 27,'30-34': 32,'35+': 35})\n",
    "gend['length_of_service'] = gend['length_of_service'].map(los_num)\n",
    "sup = dict({'8': 0, '5':0, '4': 0,'1':1, '2': 1, '6': 1, '7':1})\n",
    "gend['supervisory_status']=gend['supervisory_status'].map(sup)\n",
    "gend = gend.dropna()"
   ]
  },
  {
   "cell_type": "code",
   "execution_count": 120,
   "metadata": {
    "collapsed": false
   },
   "outputs": [],
   "source": [
    "###calculate inflation\n",
    "ep = EasyPeasy()\n",
    "pay_inflation = map(lambda x,y: ep.normalize(x, region='USA',from_year = y, to_year = 'latest'),gend['adjusted_basic_pay'],gend['year'])\n",
    "gend['pay_inflation'] = pay_inflation"
   ]
  },
  {
   "cell_type": "code",
   "execution_count": 128,
   "metadata": {
    "collapsed": true
   },
   "outputs": [],
   "source": [
    "gend.to_csv('/Users/stephaniesherman/Dropbox/insight_data_science_program/opm_federal_employment_data/fedscope_buzzfeed/gender_across_time_inflation.csv', index = False)\n"
   ]
  }
 ],
 "metadata": {
  "kernelspec": {
   "display_name": "Python 2",
   "language": "python",
   "name": "python2"
  },
  "language_info": {
   "codemirror_mode": {
    "name": "ipython",
    "version": 2
   },
   "file_extension": ".py",
   "mimetype": "text/x-python",
   "name": "python",
   "nbconvert_exporter": "python",
   "pygments_lexer": "ipython2",
   "version": "2.7.13"
  }
 },
 "nbformat": 4,
 "nbformat_minor": 2
}
